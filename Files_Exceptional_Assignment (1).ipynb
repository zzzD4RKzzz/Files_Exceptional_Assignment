{
  "nbformat": 4,
  "nbformat_minor": 0,
  "metadata": {
    "colab": {
      "provenance": []
    },
    "kernelspec": {
      "name": "python3",
      "display_name": "Python 3"
    },
    "language_info": {
      "name": "python"
    }
  },
  "cells": [
    {
      "cell_type": "markdown",
      "source": [
        "# **Files, exceptional handling, logging and memory management**"
      ],
      "metadata": {
        "id": "J8tQmiHzMtLc"
      }
    },
    {
      "cell_type": "markdown",
      "source": [
        "# Theory Questions"
      ],
      "metadata": {
        "id": "ESr2vjsbM-8r"
      }
    },
    {
      "cell_type": "markdown",
      "source": [
        "1. What is the difference between interpreted and compiled languages?\n",
        "* Interpreted languages execute code line by line.\n",
        "* Compiled languages convert the entire program into machine code before execution."
      ],
      "metadata": {
        "id": "98PCoe2XNC01"
      }
    },
    {
      "cell_type": "markdown",
      "source": [
        "2. What is exception handling in Python?\n",
        "* Exception handling is a mechanism to handle runtime errors using try, except, finally, and else blocks."
      ],
      "metadata": {
        "id": "IP5g9jh_9NSh"
      }
    },
    {
      "cell_type": "markdown",
      "source": [
        "3. What is the purpose of the finally block in exception handling?\n",
        "* The finally block runs regardless of whether an exception occurs."
      ],
      "metadata": {
        "id": "DCtNxfF69wCH"
      }
    },
    {
      "cell_type": "markdown",
      "source": [
        "4. What is logging in Python?\n",
        "* Logging is used to record events in a program for debugging and monitoring."
      ],
      "metadata": {
        "id": "10UQXCwP-LMk"
      }
    },
    {
      "cell_type": "markdown",
      "source": [
        "5. What is the significance of the __del__ method in Python?\n",
        "* The __del__ method is called when an object is deleted to free resources."
      ],
      "metadata": {
        "id": "1GPgShwP-b30"
      }
    },
    {
      "cell_type": "markdown",
      "source": [
        "6. What is the difference between import and from ... import in Python?\n",
        "* import module imports the entire module.\n",
        "* from module import function imports a specific function/class."
      ],
      "metadata": {
        "id": "RTIC7sD3-pwS"
      }
    },
    {
      "cell_type": "markdown",
      "source": [
        "7. How can you handle multiple exceptions in Python?\n",
        "* Multiple exceptions can be handle by using multiple except clauses or by catching multiple exception types in a single except clause using a tuple."
      ],
      "metadata": {
        "id": "EjSfMf04_bMc"
      }
    },
    {
      "cell_type": "markdown",
      "source": [
        "8. What is the purpose of the with statement when handling files in Python?\n",
        "* It ensures proper resource management by automatically closing files."
      ],
      "metadata": {
        "id": "aD70POIG_wSy"
      }
    },
    {
      "cell_type": "markdown",
      "source": [
        "9. What is the difference between multithreading and multiprocessing?\n",
        "* Multithreading: Runs multiple threads in the same process.\n",
        "* Multiprocessing: Runs multiple processes concurrently, leveraging multiple CPU cores to speed up CPU-bound tasks"
      ],
      "metadata": {
        "id": "k1nYokDqAHGR"
      }
    },
    {
      "cell_type": "markdown",
      "source": [
        "10. What are the advantages of using logging in a program?\n",
        "* Helps debug issues\n",
        "* Provides system monitoring\n",
        "* Saves error messages for future reference"
      ],
      "metadata": {
        "id": "MkBlyPIrBLHW"
      }
    },
    {
      "cell_type": "markdown",
      "source": [
        "11. What is memory management in Python?\n",
        "* In Python, memory management is the automatic process of allocating and deallocating memory for objects, handled by the interpreter, freeing developers from manual memory management tasks."
      ],
      "metadata": {
        "id": "M5GXVKWlBu0-"
      }
    },
    {
      "cell_type": "markdown",
      "source": [
        "12. What are the basic steps involved in exception handling in Python?\n",
        "* Write risky code inside try.\n",
        "* Handle exceptions using except.\n",
        "* Use else for code that runs if no exception occurs.\n",
        "* Use finally to clean up resources."
      ],
      "metadata": {
        "id": "q4BJv02iCK1g"
      }
    },
    {
      "cell_type": "markdown",
      "source": [
        "13. Why is memory management important in Python?\n",
        "* It prevents memory leaks and optimizes performance."
      ],
      "metadata": {
        "id": "q03cW7dXCqrl"
      }
    },
    {
      "cell_type": "markdown",
      "source": [
        "14. What is the role of try and except in exception handling?\n",
        "* try contains risky code, while except handles exceptions."
      ],
      "metadata": {
        "id": "3ZgoZPV0C2of"
      }
    },
    {
      "cell_type": "markdown",
      "source": [
        "15. How does Python’s garbage collection system work?\n",
        "* Python uses reference counting and cyclic garbage collection to free memory."
      ],
      "metadata": {
        "id": "ncXa53pRDF2J"
      }
    },
    {
      "cell_type": "markdown",
      "source": [
        "16. What is the purpose of the else block in exception handling?\n",
        "* In exception handling, the else block is executed only if no exceptions are raised within the preceding try block. It allows you to execute code that should run only when the try block executes successfully."
      ],
      "metadata": {
        "id": "VF43gzyVDQ-Y"
      }
    },
    {
      "cell_type": "markdown",
      "source": [
        "17. What are the common logging levels in Python?\n",
        "* Common logging such as DEBUG, INFO, WARNING, ERROR, CRITICAL."
      ],
      "metadata": {
        "id": "vtfPFnW_D8Df"
      }
    },
    {
      "cell_type": "markdown",
      "source": [
        "18. What is the difference between os.fork() and multiprocessing in Python?\n",
        "* os.fork() creates a child process.\n",
        "* multiprocessing module provides a cross-platform way to create new processes."
      ],
      "metadata": {
        "id": "H8sEGOKOEZBh"
      }
    },
    {
      "cell_type": "markdown",
      "source": [
        "19. What is the importance of closing a file in Python?\n",
        "* Closing files in Python is an essential practice that helps maintain data integrity, prevent resource leaks, and ensure the reliability of your applications."
      ],
      "metadata": {
        "id": "_qus2Mf_E2X1"
      }
    },
    {
      "cell_type": "markdown",
      "source": [
        "20. What is the difference between file.read() and file.readline() in Python?\n",
        "* read() reads the entire file.\n",
        "* readline() reads a single line."
      ],
      "metadata": {
        "id": "DpuNTHtYJqy4"
      }
    },
    {
      "cell_type": "markdown",
      "source": [
        "21. What is the logging module in Python used for?\n",
        "* To track events and errors during execution."
      ],
      "metadata": {
        "id": "7jwT9QwjJ1Z1"
      }
    },
    {
      "cell_type": "markdown",
      "source": [
        "22. What is the mode in Python used for file handling?\n",
        "* \"r\" → Read\n",
        "* \"w\" → Write\n",
        "* \"a\" → Append\n",
        "* \"rb\" → Read Binary\n",
        "* \"wb\" → Write Binary"
      ],
      "metadata": {
        "id": "Jjvm2AocKPQg"
      }
    },
    {
      "cell_type": "markdown",
      "source": [
        "23. What are the challenges associated with memory management in Python?\n",
        "* References cycle\n",
        "* High memory consumption"
      ],
      "metadata": {
        "id": "X9otB33HKe5e"
      }
    },
    {
      "cell_type": "markdown",
      "source": [
        "24. How do you raise an exception manually in Python?\n",
        "* The raise keyword is used to raise an exception. You can define what kind of error to raise, and the text to print to the user."
      ],
      "metadata": {
        "id": "UsqfS6xKK3vR"
      }
    },
    {
      "cell_type": "markdown",
      "source": [
        "25. Why is it important to use multithreading in certain applications?\n",
        "* Multithreading is an important concept in modern computing that allows multiple threads to get executed properly, enabling more efficient utilization of system resources."
      ],
      "metadata": {
        "id": "ZiLFrITRLI2X"
      }
    },
    {
      "cell_type": "markdown",
      "source": [
        "Practical Questions"
      ],
      "metadata": {
        "id": "8G3Z3mvqLxzV"
      }
    },
    {
      "cell_type": "code",
      "source": [
        "#1. How can you open a file for writing in Python and write a string to it?\n",
        "file = open(\"example.txt\", \"w\")\n",
        "file.write(\"Hello World!\")\n",
        "file.close()"
      ],
      "metadata": {
        "id": "InHfxlOvL1TW"
      },
      "execution_count": 8,
      "outputs": []
    },
    {
      "cell_type": "code",
      "source": [
        "#2. Write a Python program to read the contents of a file and print each line.\n",
        "with open(\"example.txt\", \"r\") as file:\n",
        "    for line in file:\n",
        "        print(line.strip())"
      ],
      "metadata": {
        "colab": {
          "base_uri": "https://localhost:8080/"
        },
        "id": "GKecxNHcVMxZ",
        "outputId": "10030591-fc66-4f30-f1b7-7bdf26ba4e9d"
      },
      "execution_count": 10,
      "outputs": [
        {
          "output_type": "stream",
          "name": "stdout",
          "text": [
            "Hello World!\n"
          ]
        }
      ]
    },
    {
      "cell_type": "code",
      "source": [
        "#3. How would you handle a case where the file doesn’t exist while trying to open it for reading?\n",
        "try:\n",
        "    with open(\"nonexistent.txt\", \"r\") as file:\n",
        "        print(file.read())\n",
        "except FileNotFoundError:\n",
        "    print(\"Error: The file does not exist.\")"
      ],
      "metadata": {
        "colab": {
          "base_uri": "https://localhost:8080/"
        },
        "id": "FuqhI064VlhV",
        "outputId": "4b8f2b75-b04d-4be0-ec49-55a62863d166"
      },
      "execution_count": null,
      "outputs": [
        {
          "output_type": "stream",
          "name": "stdout",
          "text": [
            "Error: The file does not exist.\n"
          ]
        }
      ]
    },
    {
      "cell_type": "code",
      "source": [
        "#4. Write a Python script that reads from one file and writes its content to another file.\n",
        "with open(\"example.txt\", \"r\") as file1:\n",
        "    content = file1.read()\n",
        "with open(\"output.txt\", \"w\") as file2:\n",
        "    file2.write(content)"
      ],
      "metadata": {
        "id": "6U2MtClHVur-"
      },
      "execution_count": 11,
      "outputs": []
    },
    {
      "cell_type": "code",
      "source": [
        "#5. How would you catch and handle division by zero error in Python?\n",
        "try:\n",
        "    result = 10 / 0\n",
        "except ZeroDivisionError:\n",
        "    print(\"Error: Division by zero is not allowed.\")"
      ],
      "metadata": {
        "id": "QT4RolxoV7th",
        "colab": {
          "base_uri": "https://localhost:8080/"
        },
        "outputId": "48b9840b-f29b-4e67-a01e-8c1e544b0b0c"
      },
      "execution_count": 12,
      "outputs": [
        {
          "output_type": "stream",
          "name": "stdout",
          "text": [
            "Error: Division by zero is not allowed.\n"
          ]
        }
      ]
    },
    {
      "cell_type": "code",
      "source": [
        "#6. Write a Python program that logs an error message to a log file when a division by zero exception occurs.\n",
        "import logging\n",
        "\n",
        "logging.basicConfig(filename=\"error.log\", level=logging.ERROR)\n",
        "\n",
        "try:\n",
        "    result = 10 / 0\n",
        "except ZeroDivisionError:\n",
        "    logging.error(\"Division by zero error occurred.\")"
      ],
      "metadata": {
        "id": "Vp7uvaYNWCIO",
        "colab": {
          "base_uri": "https://localhost:8080/"
        },
        "outputId": "a699d6e0-38b8-4312-d27b-cab59a22641f"
      },
      "execution_count": 13,
      "outputs": [
        {
          "output_type": "stream",
          "name": "stderr",
          "text": [
            "ERROR:root:Division by zero error occurred.\n"
          ]
        }
      ]
    },
    {
      "cell_type": "code",
      "source": [
        "#7. How do you log information at different levels (INFO, ERROR, WARNING) in Python using the logging module?\n",
        "import logging\n",
        "\n",
        "logging.basicConfig(level=logging.INFO)\n",
        "logging.info(\"This is an info message.\")\n",
        "\n",
        "logging.basicConfig(level=logging.ERROR)\n",
        "logging.error(\"This is an error message.\")"
      ],
      "metadata": {
        "id": "jXJ1LUVjWImu",
        "colab": {
          "base_uri": "https://localhost:8080/"
        },
        "outputId": "37ad8d21-2499-47e2-e70f-f974d34da179"
      },
      "execution_count": 14,
      "outputs": [
        {
          "output_type": "stream",
          "name": "stderr",
          "text": [
            "ERROR:root:This is an error message.\n"
          ]
        }
      ]
    },
    {
      "cell_type": "code",
      "source": [
        "#8. Write a program to handle a file opening error using exception handling.\n",
        "try:\n",
        "    with open(\"nonexistent.txt\", \"r\") as file:\n",
        "        print(file.read())\n",
        "except FileNotFoundError:\n",
        "    print(\"Error: The file does not exist.\")"
      ],
      "metadata": {
        "id": "hrZWRf22WMK6",
        "colab": {
          "base_uri": "https://localhost:8080/"
        },
        "outputId": "4c0e50ca-8d6b-410f-bc69-3ed3a50292a0"
      },
      "execution_count": 15,
      "outputs": [
        {
          "output_type": "stream",
          "name": "stdout",
          "text": [
            "Error: The file does not exist.\n"
          ]
        }
      ]
    },
    {
      "cell_type": "code",
      "source": [
        "#9. How can you read a file line by line and store its content in a list in Python?\n",
        "with open(\"example.txt\", \"r\") as file:\n",
        "    lines = file.readlines()\n",
        "print(lines)"
      ],
      "metadata": {
        "id": "OKcsghlKWSFp",
        "colab": {
          "base_uri": "https://localhost:8080/"
        },
        "outputId": "61dae2ac-7d30-43c3-d956-b73b12c64cd2"
      },
      "execution_count": 16,
      "outputs": [
        {
          "output_type": "stream",
          "name": "stdout",
          "text": [
            "['Hello World!']\n"
          ]
        }
      ]
    },
    {
      "cell_type": "code",
      "source": [
        "#10. How can you append data to an existing file in Python?\n",
        "with open(\"example.txt\", \"a\") as file:\n",
        "    file.write(\"\\nAppended line.\")"
      ],
      "metadata": {
        "id": "dbjEThKfWVqa"
      },
      "execution_count": 18,
      "outputs": []
    },
    {
      "cell_type": "code",
      "source": [
        "#11. Write a Python program that uses a try-except block to handle an error when attempting to access a dictionary key that doesn’t exist.\n",
        "my_dict = {\"a\": 1, \"b\": 2}\n",
        "try:\n",
        "    value = my_dict[\"c\"]\n",
        "except KeyError:\n",
        "    print(\"Error: The key does not exist in the dictionary.\")"
      ],
      "metadata": {
        "id": "pntaQw8jWY4W",
        "colab": {
          "base_uri": "https://localhost:8080/"
        },
        "outputId": "8bcc28e2-b412-4465-e6ac-9d684d6b7b06"
      },
      "execution_count": 19,
      "outputs": [
        {
          "output_type": "stream",
          "name": "stdout",
          "text": [
            "Error: The key does not exist in the dictionary.\n"
          ]
        }
      ]
    },
    {
      "cell_type": "code",
      "source": [
        "#12. Write a program that demonstrates using multiple except blocks to handle different types of exceptions.\n",
        "try:\n",
        "    result = 10 / 0\n",
        "except ZeroDivisionError:\n",
        "    print(\"Error: Division by zero is not allowed.\")\n",
        "except ValueError:\n",
        "    print(\"Error: Invalid value.\")"
      ],
      "metadata": {
        "id": "rraZse5nWcpC",
        "colab": {
          "base_uri": "https://localhost:8080/"
        },
        "outputId": "9969b7f8-5480-4713-8cf7-9eda1290cec9"
      },
      "execution_count": 54,
      "outputs": [
        {
          "output_type": "stream",
          "name": "stdout",
          "text": [
            "Error: Division by zero is not allowed.\n"
          ]
        }
      ]
    },
    {
      "cell_type": "code",
      "source": [
        "#13. How would you check if a file exists before attempting to read it in Python?\n",
        "import os\n",
        "\n",
        "if os.path.exists(\"example.txt\"):\n",
        "    with open(\"example.txt\", \"r\") as file:\n",
        "        print(file.read())\n",
        "else:\n",
        "    print(\"Error: The file does not exist.\")"
      ],
      "metadata": {
        "id": "JZ6bVEepWhqG",
        "colab": {
          "base_uri": "https://localhost:8080/"
        },
        "outputId": "b5778a2d-f9c2-43c1-b60c-8841d08a668e"
      },
      "execution_count": 20,
      "outputs": [
        {
          "output_type": "stream",
          "name": "stdout",
          "text": [
            "Hello World!\n",
            "Appended line.\n"
          ]
        }
      ]
    },
    {
      "cell_type": "code",
      "source": [
        "#14. Write a program that uses the logging module to log both informational and error messages.\n",
        "import logging\n",
        "\n",
        "logging.basicConfig(level=logging.INFO)\n",
        "logging.info(\"This is an info message.\")\n",
        "\n",
        "logging.basicConfig(level=logging.ERROR)\n",
        "logging.error(\"This is an error message.\")"
      ],
      "metadata": {
        "id": "Vb6CNcCCWk5Y",
        "colab": {
          "base_uri": "https://localhost:8080/"
        },
        "outputId": "92afb9c1-1647-4bcb-ad9c-870c6c76c751"
      },
      "execution_count": 21,
      "outputs": [
        {
          "output_type": "stream",
          "name": "stderr",
          "text": [
            "ERROR:root:This is an error message.\n"
          ]
        }
      ]
    },
    {
      "cell_type": "code",
      "source": [
        "#15. Write a Python program that prints the content of a file and handles the case when the file is empty.\n",
        "with open(\"example.txt\", \"r\") as file:\n",
        "    content = file.read()\n",
        "    if content:\n",
        "        print(content)\n",
        "    else:\n",
        "        print(\"File is empty.\")"
      ],
      "metadata": {
        "id": "AlgkKMruWokr",
        "colab": {
          "base_uri": "https://localhost:8080/"
        },
        "outputId": "d330ac05-29ad-4881-b6b6-5d07aede4dde"
      },
      "execution_count": 23,
      "outputs": [
        {
          "output_type": "stream",
          "name": "stdout",
          "text": [
            "Hello World!\n",
            "Appended line.\n"
          ]
        }
      ]
    },
    {
      "cell_type": "code",
      "source": [
        "#16. Demonstrate how to use memory profiling to check the memory usage of a small program.\n",
        "from memory_profiler import memory_usage\n",
        "\n",
        "def my_function():\n",
        "    numbers = [i for i in range(10000)]\n",
        "    return sum(numbers)\n",
        "\n",
        "mem_usage = memory_usage(my_function)\n",
        "print(f\"Memory usage: {mem_usage} MiB\")"
      ],
      "metadata": {
        "id": "FFICBu6KWsI7",
        "colab": {
          "base_uri": "https://localhost:8080/"
        },
        "outputId": "b192b288-766e-4e30-e1ba-b9d83b177bcb"
      },
      "execution_count": 53,
      "outputs": [
        {
          "output_type": "stream",
          "name": "stdout",
          "text": [
            "Memory usage: [115.45703125, 115.45703125, 115.45703125] MiB\n"
          ]
        }
      ]
    },
    {
      "cell_type": "code",
      "source": [
        "#17. Write a Python program to create and write a list of numbers to a file, one number per line.\n",
        "numbers = [1, 2, 3, 4, 5]\n",
        "with open(\"numbers.txt\", \"w\") as file:\n",
        "    for number in numbers:\n",
        "        file.write(str(number) + \"\\n\")\n",
        "with open(\"numbers.txt\", \"r\") as file:\n",
        "    print(file.read())"
      ],
      "metadata": {
        "id": "Wxulc2M8WvUm",
        "colab": {
          "base_uri": "https://localhost:8080/"
        },
        "outputId": "5e9764a2-1be2-4aa7-fed5-fb1a1dffd5d3"
      },
      "execution_count": 56,
      "outputs": [
        {
          "output_type": "stream",
          "name": "stdout",
          "text": [
            "1\n",
            "2\n",
            "3\n",
            "4\n",
            "5\n",
            "\n"
          ]
        }
      ]
    },
    {
      "cell_type": "code",
      "source": [
        "#18. How would you implement a basic logging setup that logs to a file with rotation after 1MB?\n",
        "import logging\n",
        "from logging.handlers import RotatingFileHandler\n",
        "\n",
        "logging.basicConfig(level=logging.INFO)\n",
        "handler = RotatingFileHandler(\"app.log\", maxBytes=1000000, backupCount=5)"
      ],
      "metadata": {
        "id": "yNqALTprWyZp"
      },
      "execution_count": 42,
      "outputs": []
    },
    {
      "cell_type": "code",
      "source": [
        "#19. Write a program that handles both IndexError and KeyError using a try-except block.\n",
        "my_list = [1, 2, 3]\n",
        "my_dict = {\"a\": 1, \"b\": 2}\n",
        "\n",
        "try:\n",
        "    value = my_list[3]\n",
        "except IndexError:\n",
        "    print(\"Error: Index out of range.\")"
      ],
      "metadata": {
        "id": "PjZE5LJOW1lB",
        "colab": {
          "base_uri": "https://localhost:8080/"
        },
        "outputId": "172aec2e-0214-4865-c8f6-53482b8fa026"
      },
      "execution_count": 46,
      "outputs": [
        {
          "output_type": "stream",
          "name": "stdout",
          "text": [
            "Error: Index out of range.\n"
          ]
        }
      ]
    },
    {
      "cell_type": "code",
      "source": [
        "#20. How would you open a file and read its contents using a context manager in Python?\n",
        "with open(\"example.txt\", \"r\") as file:\n",
        "    print(file.read())"
      ],
      "metadata": {
        "id": "WsU5OSRyW5WI",
        "colab": {
          "base_uri": "https://localhost:8080/"
        },
        "outputId": "e94d56c6-223f-4b9f-f150-50b61c78d85a"
      },
      "execution_count": 43,
      "outputs": [
        {
          "output_type": "stream",
          "name": "stdout",
          "text": [
            "Hello World!\n",
            "Appended line.\n"
          ]
        }
      ]
    },
    {
      "cell_type": "code",
      "source": [
        "#21. Write a Python program that reads a file and prints the number of occurrences of a specific word.\n",
        "word = \"Hello\"\n",
        "count = 0\n",
        "with open(\"example.txt\", \"r\") as file:\n",
        "    for line in file:\n",
        "        words = line.split()\n",
        "        for w in words:\n",
        "            if w == word:\n",
        "                count += 1\n",
        "print(f\"The word '{word}' appears {count} times in the file.\")"
      ],
      "metadata": {
        "id": "uP-SiSVPW92Z",
        "colab": {
          "base_uri": "https://localhost:8080/"
        },
        "outputId": "009ab1a1-126d-4fb7-a933-7e00169d3e77"
      },
      "execution_count": 55,
      "outputs": [
        {
          "output_type": "stream",
          "name": "stdout",
          "text": [
            "The word 'Hello' appears 1 times in the file.\n"
          ]
        }
      ]
    },
    {
      "cell_type": "code",
      "source": [
        "#22. How can you check if a file is empty before attempting to read its contents?\n",
        "with open(\"example.txt\", \"r\") as file:\n",
        "    content = file.read()\n",
        "    if content:\n",
        "        print(content)\n",
        "    else:\n",
        "        print(\"File is empty.\")"
      ],
      "metadata": {
        "id": "X87CGd07XCJC",
        "colab": {
          "base_uri": "https://localhost:8080/"
        },
        "outputId": "9d1d5205-1751-4bf7-d166-cb4558218315"
      },
      "execution_count": 45,
      "outputs": [
        {
          "output_type": "stream",
          "name": "stdout",
          "text": [
            "Hello World!\n",
            "Appended line.\n"
          ]
        }
      ]
    },
    {
      "cell_type": "code",
      "source": [
        "#23. Write a Python program that writes to a log file when an error occurs during file handling.\n",
        "import logging\n",
        "\n",
        "logging.basicConfig(filename=\"file_errors.log\", level=logging.ERROR)\n",
        "\n",
        "try:\n",
        "    with open(\"unknown.txt\", \"r\") as file:\n",
        "        content = file.read()\n",
        "except FileNotFoundError:\n",
        "    logging.error(\"Error: The file does not exist.\")"
      ],
      "metadata": {
        "colab": {
          "base_uri": "https://localhost:8080/"
        },
        "id": "nTUhwEHbhSRa",
        "outputId": "da069364-9a3a-49dd-fce1-4bcd729a25fb"
      },
      "execution_count": 47,
      "outputs": [
        {
          "output_type": "stream",
          "name": "stderr",
          "text": [
            "ERROR:root:Error: The file does not exist.\n"
          ]
        }
      ]
    }
  ]
}